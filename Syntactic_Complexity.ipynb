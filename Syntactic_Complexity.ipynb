{
 "cells": [
  {
   "cell_type": "markdown",
   "metadata": {},
   "source": [
    "### Measure of Syntactic Complexity\n",
    "- \\# words before root verb, shown to correlate with writing quality by McNamara et al (2010)."
   ]
  },
  {
   "cell_type": "code",
   "execution_count": 3,
   "metadata": {},
   "outputs": [],
   "source": [
    "from nltk.parse.corenlp import CoreNLPDependencyParser\n",
    "dep_parser = CoreNLPDependencyParser(url='http://localhost:9000')"
   ]
  },
  {
   "cell_type": "code",
   "execution_count": 2,
   "metadata": {},
   "outputs": [],
   "source": [
    "def num_words_before_root(sentence):\n",
    "    parse, = dep_parser.raw_parse(sentence)\n",
    "    deps = parse.to_conll(4)\n",
    "    deps_lines = deps.split('\\n')\n",
    "    num_words_before_root = 0\n",
    "    for dep in deps_lines:\n",
    "        split = dep.split('\\t')\n",
    "        if split[2] == '0':\n",
    "            break\n",
    "        num_words_before_root += 1\n",
    "    return num_words_before_root"
   ]
  },
  {
   "cell_type": "code",
   "execution_count": 1,
   "metadata": {},
   "outputs": [],
   "source": [
    "import nltk\n",
    "import numpy as np\n",
    "\n",
    "def words_before_root(text):\n",
    "    sentences = nltk.sent_tokenize(text)\n",
    "    return np.array(list(map(lambda sentence: num_words_before_root(sentence), sentences)))"
   ]
  },
  {
   "cell_type": "code",
   "execution_count": 65,
   "metadata": {},
   "outputs": [],
   "source": [
    "import os\n",
    "\n",
    "DIR_PATH = 'ASAP/Preprocessed/essay'\n",
    "directory = os.fsencode(DIR_PATH)\n",
    "    \n",
    "\n",
    "with open('ASAP/Preprocessed/words_before_root.csv','w') as outfile:\n",
    "    for file in os.listdir(directory):\n",
    "        filename = os.fsdecode(file)\n",
    "        if filename[-4:] == '.txt':\n",
    "            with open(f'{DIR_PATH}/{filename}', 'r') as f:\n",
    "                data = f.read()\n",
    "                mean_complexity = mean_words_before_root(data)\n",
    "                max_complexity = max_words_before_root()\n",
    "                outfile.write(f'{filename[:-4]},{complexity}\\n')"
   ]
  },
  {
   "cell_type": "code",
   "execution_count": 12,
   "metadata": {},
   "outputs": [
    {
     "data": {
      "text/plain": [
       "2.3333333333333335"
      ]
     },
     "execution_count": 12,
     "metadata": {},
     "output_type": "execute_result"
    }
   ],
   "source": [
    "words_before_root('Oisín and his friends walked the dog this morning. Then they bought some ice cream. I scream for ice cream.').mean()"
   ]
  }
 ],
 "metadata": {
  "kernelspec": {
   "display_name": "Python 3",
   "language": "python",
   "name": "python3"
  },
  "language_info": {
   "codemirror_mode": {
    "name": "ipython",
    "version": 3
   },
   "file_extension": ".py",
   "mimetype": "text/x-python",
   "name": "python",
   "nbconvert_exporter": "python",
   "pygments_lexer": "ipython3",
   "version": "3.7.6"
  }
 },
 "nbformat": 4,
 "nbformat_minor": 4
}
