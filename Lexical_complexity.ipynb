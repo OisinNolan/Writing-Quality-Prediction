{
 "cells": [
  {
   "cell_type": "markdown",
   "metadata": {},
   "source": [
    "### Setup"
   ]
  },
  {
   "cell_type": "code",
   "execution_count": 1,
   "metadata": {},
   "outputs": [
    {
     "name": "stdout",
     "output_type": "stream",
     "text": [
      "Collecting lexical-diversity\n",
      "  Downloading lexical_diversity-0.1.1-py3-none-any.whl (117 kB)\n",
      "\u001b[K     |████████████████████████████████| 117 kB 3.0 MB/s eta 0:00:01\n",
      "\u001b[?25hInstalling collected packages: lexical-diversity\n",
      "Successfully installed lexical-diversity-0.1.1\n"
     ]
    }
   ],
   "source": [
    "!pip install lexical-diversity"
   ]
  },
  {
   "cell_type": "code",
   "execution_count": 8,
   "metadata": {},
   "outputs": [],
   "source": [
    "!pip install -q syllables"
   ]
  },
  {
   "cell_type": "markdown",
   "metadata": {},
   "source": [
    "### Lexical complexity analysis\n",
    "- Measures of lexical complexity from McCarthy and Jarvis (2010)"
   ]
  },
  {
   "cell_type": "code",
   "execution_count": 9,
   "metadata": {},
   "outputs": [],
   "source": [
    "import syllables\n",
    "import nltk\n",
    "import numpy as np\n",
    "\n",
    "def word_stats(text):\n",
    "    tokens = nltk.word_tokenize(text)\n",
    "    word_length = list(map(lambda t: len(t), tokens))\n",
    "    word_syll = list(map(lambda t: syllables.estimate(t), tokens))\n",
    "    return {'mean_len': np.mean(word_length), 'max_len': max(word_length), 'mean_syll': np.mean(word_syll), 'max_syll': max(word_syll)}"
   ]
  },
  {
   "cell_type": "code",
   "execution_count": 12,
   "metadata": {},
   "outputs": [],
   "source": [
    "from lexical_diversity import lex_div as ld\n",
    "\n",
    "import os\n",
    "\n",
    "DIR_PATH = 'ASAP/Preprocessed/essay'\n",
    "directory = os.fsencode(DIR_PATH)\n",
    "    \n",
    "\n",
    "with open('ASAP/Preprocessed/lexical_complexity.csv','w') as outfile:\n",
    "    for file in os.listdir(directory):\n",
    "        filename = os.fsdecode(file)\n",
    "        if filename[-4:] == '.txt':\n",
    "            with open(f'{DIR_PATH}/{filename}', 'r') as f:\n",
    "                data = f.read()\n",
    "                flt = ld.flemmatize(data)\n",
    "                maas = ld.maas_ttr(flt)\n",
    "                hdd = ld.hdd(flt)\n",
    "                mtld = ld.mtld(flt)\n",
    "                ws = word_stats(data)\n",
    "                outfile.write(f\"{filename[:-4]},{maas},{hdd},{mtld},{ws['mean_len']},{ws['max_len']},{ws['mean_syll']},{ws['max_syll']}\\n\")"
   ]
  },
  {
   "cell_type": "code",
   "execution_count": 10,
   "metadata": {},
   "outputs": [
    {
     "data": {
      "text/plain": [
       "{'mean_len': 4.030172413793103,\n",
       " 'max_len': 13,\n",
       " 'mean_syll': 1.4267241379310345,\n",
       " 'max_syll': 4}"
      ]
     },
     "execution_count": 10,
     "metadata": {},
     "output_type": "execute_result"
    }
   ],
   "source": [
    "text = \"\"\"Dear @CAPS1 @CAPS2, I believe that using computers will benefit us in many ways like talking and becoming friends will others through websites like facebook and mysace. Using computers can help us find coordibates, locations, and able ourselfs to millions of information. Also computers will benefit us by helping with jobs as in planning a house plan and typing a @NUM1 page report for one of our jobs in less than writing it. Now lets go into the wonder world of technology. Using a computer will help us in life by talking or making friends on line. Many people have myspace, facebooks, aim, these all benefit us by having conversations with one another. Many people believe computers are bad but how can you make friends if you can never talk to them? I am very fortunate for having a computer that can help with not only school work but my social life and how I make friends. Computers help us with finding our locations, coordibates and millions of information online. If we didn't go on the internet a lot we wouldn't know how to go onto websites that @MONTH1 help us with locations and coordinates like @LOCATION1. Would you rather use a computer or be in @LOCATION3. When your supposed to be vacationing in @LOCATION2. Million of information is found on the internet. You can as almost every question and a computer will have it. Would you rather easily draw up a house plan on the computers or take @NUM1 hours doing one by hand with ugly erazer marks all over it, you are garrenteed that to find a job with a drawing like that. Also when appling for a job many workers must write very long papers like a @NUM3 word essay on why this job fits you the most, and many people I know don't like writing @NUM3 words non-stopp for hours when it could take them I hav an a computer. That is why computers we needed a lot now adays. I hope this essay has impacted your descion on computers because they are great machines to work with. The other day I showed my mom how to use a computer and she said it was the greatest invention sense sliced bread! Now go out and buy a computer to help you chat online with friends, find locations and millions of information on one click of the button and help your self with getting a job with neat, prepared, printed work that your boss will love.\"\"\"\n",
    "word_stats(text)"
   ]
  },
  {
   "cell_type": "code",
   "execution_count": 11,
   "metadata": {},
   "outputs": [
    {
     "data": {
      "text/plain": [
       "{'mean_len': 4.172804532577904,\n",
       " 'max_len': 13,\n",
       " 'mean_syll': 1.5169971671388103,\n",
       " 'max_syll': 5}"
      ]
     },
     "execution_count": 11,
     "metadata": {},
     "output_type": "execute_result"
    }
   ],
   "source": [
    "text = \"\"\"Dear Local Newspaper: Are computers possitively affecting society? As technology advances, humans are relying on them more and more; most people use them daily. I believe computers effect people possitively because they help write papers, are a social tool, and are a big help with research. After reading this letter there will be no doubt that computers have a possitive effect on people in society. My first reason why computers have a possitive effect on people is they help with writing papers. Whether it is writing a resume, a science report, or a spreadsheet, none of these are ever seen nowadays done by hand. Everyone expects to see the flawlessly inked letters on the printer paper in whatever piece of writing it is. This helps the people writing the paper because writing takes many drafts to get the piece perfect; it is a pain to write each draft by hand. In additio, it is easier to read someone's writing @CAPS1 its typed, especially @CAPS1 the writer has hand writing. However, computers help in more than just writing papers. My second reason why computers passitively effect people is by being a social tool. Many websites online these days have social networks such as youtube, facebook, twitter, and myspace. In the listed websites above and many others as well, people can meet other people through other friends and games. The nice thing about meeting them online is that you don't have to plan a time to meet the person, @CAPS1 you are both online you guys can begin chatting. The chatting also helps @CAPS1 people have long-distance relationships, whether friends, mates, or family. Online chatting help people stay in-touch with someone they might not see everyday. That is a big help with everyone's social life, keeping then us \"the \" @CAPS2, online sites like eharmony or match.com take people with little time to worry about love and match them with their perfect mate. This also helps people who are shy get married and start a family. This helps people live happier lives, another possitive effect. Finally, computers possitively effect people by making research much easier. My dad always says \"You kids got it easy. @CAPS1 I was growing up, we'd to go to the library and spend hours researching before we could write our papers.\" @CAPS3, its simple. Using the internet and a search engine, all you have to do is type a topic and you can get all the latest articles in just seconds. Libraries might not have the most recent books, or someone might've checked out your topic's book. Then what can you do? The internet is also an extremely useful help @CAPS1 the research topic is very specific, if its a certain becteria or species that a book @MONTH1 only briefly mention. The internet has a much broader range of articles, so it is much easier to find information for any topic. With research, taking less time to understand, people can spend more time enjoying the day, like playing outside, than in the library stressing because they cannot find a book on their topic. This is a strong reason why computers should not be seen as a negative effect on society. To conclude, computers have a possitive effect on society, because they help write papers, they are a social tool, and are a big help with research. Where would we be if we had to handwrite everything? Think about how many fewer friends or maybe even relationships we would have without social websites. What about how hours of research are @CAPS3 two clicks away? Computers have changed our lives for the better, and we should appreciate all the do for us.\"\"\"\n",
    "word_stats(text)"
   ]
  }
 ],
 "metadata": {
  "kernelspec": {
   "display_name": "Python 3",
   "language": "python",
   "name": "python3"
  },
  "language_info": {
   "codemirror_mode": {
    "name": "ipython",
    "version": 3
   },
   "file_extension": ".py",
   "mimetype": "text/x-python",
   "name": "python",
   "nbconvert_exporter": "python",
   "pygments_lexer": "ipython3",
   "version": "3.7.6"
  }
 },
 "nbformat": 4,
 "nbformat_minor": 4
}
