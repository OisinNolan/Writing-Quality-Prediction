{
 "cells": [
  {
   "cell_type": "markdown",
   "metadata": {},
   "source": [
    "# Evaluation of relationship between linguistic complexity measures and writing quality"
   ]
  },
  {
   "cell_type": "markdown",
   "metadata": {},
   "source": [
    "### Read ASAP Dataset"
   ]
  },
  {
   "cell_type": "code",
   "execution_count": 28,
   "metadata": {},
   "outputs": [
    {
     "data": {
      "text/html": [
       "<div>\n",
       "<style scoped>\n",
       "    .dataframe tbody tr th:only-of-type {\n",
       "        vertical-align: middle;\n",
       "    }\n",
       "\n",
       "    .dataframe tbody tr th {\n",
       "        vertical-align: top;\n",
       "    }\n",
       "\n",
       "    .dataframe thead th {\n",
       "        text-align: right;\n",
       "    }\n",
       "</style>\n",
       "<table border=\"1\" class=\"dataframe\">\n",
       "  <thead>\n",
       "    <tr style=\"text-align: right;\">\n",
       "      <th></th>\n",
       "      <th>essay_id</th>\n",
       "      <th>essay_set</th>\n",
       "      <th>essay</th>\n",
       "      <th>rater1_domain1</th>\n",
       "      <th>rater2_domain1</th>\n",
       "      <th>rater3_domain1</th>\n",
       "      <th>domain1_score</th>\n",
       "      <th>rater1_domain2</th>\n",
       "      <th>rater2_domain2</th>\n",
       "      <th>domain2_score</th>\n",
       "      <th>...</th>\n",
       "      <th>rater2_trait3</th>\n",
       "      <th>rater2_trait4</th>\n",
       "      <th>rater2_trait5</th>\n",
       "      <th>rater2_trait6</th>\n",
       "      <th>rater3_trait1</th>\n",
       "      <th>rater3_trait2</th>\n",
       "      <th>rater3_trait3</th>\n",
       "      <th>rater3_trait4</th>\n",
       "      <th>rater3_trait5</th>\n",
       "      <th>rater3_trait6</th>\n",
       "    </tr>\n",
       "  </thead>\n",
       "  <tbody>\n",
       "    <tr>\n",
       "      <th>0</th>\n",
       "      <td>1</td>\n",
       "      <td>1</td>\n",
       "      <td>Dear local newspaper, I think effects computer...</td>\n",
       "      <td>4</td>\n",
       "      <td>4</td>\n",
       "      <td>NaN</td>\n",
       "      <td>8</td>\n",
       "      <td>NaN</td>\n",
       "      <td>NaN</td>\n",
       "      <td>NaN</td>\n",
       "      <td>...</td>\n",
       "      <td>NaN</td>\n",
       "      <td>NaN</td>\n",
       "      <td>NaN</td>\n",
       "      <td>NaN</td>\n",
       "      <td>NaN</td>\n",
       "      <td>NaN</td>\n",
       "      <td>NaN</td>\n",
       "      <td>NaN</td>\n",
       "      <td>NaN</td>\n",
       "      <td>NaN</td>\n",
       "    </tr>\n",
       "    <tr>\n",
       "      <th>1</th>\n",
       "      <td>2</td>\n",
       "      <td>1</td>\n",
       "      <td>Dear @CAPS1 @CAPS2, I believe that using compu...</td>\n",
       "      <td>5</td>\n",
       "      <td>4</td>\n",
       "      <td>NaN</td>\n",
       "      <td>9</td>\n",
       "      <td>NaN</td>\n",
       "      <td>NaN</td>\n",
       "      <td>NaN</td>\n",
       "      <td>...</td>\n",
       "      <td>NaN</td>\n",
       "      <td>NaN</td>\n",
       "      <td>NaN</td>\n",
       "      <td>NaN</td>\n",
       "      <td>NaN</td>\n",
       "      <td>NaN</td>\n",
       "      <td>NaN</td>\n",
       "      <td>NaN</td>\n",
       "      <td>NaN</td>\n",
       "      <td>NaN</td>\n",
       "    </tr>\n",
       "    <tr>\n",
       "      <th>2</th>\n",
       "      <td>3</td>\n",
       "      <td>1</td>\n",
       "      <td>Dear, @CAPS1 @CAPS2 @CAPS3 More and more peopl...</td>\n",
       "      <td>4</td>\n",
       "      <td>3</td>\n",
       "      <td>NaN</td>\n",
       "      <td>7</td>\n",
       "      <td>NaN</td>\n",
       "      <td>NaN</td>\n",
       "      <td>NaN</td>\n",
       "      <td>...</td>\n",
       "      <td>NaN</td>\n",
       "      <td>NaN</td>\n",
       "      <td>NaN</td>\n",
       "      <td>NaN</td>\n",
       "      <td>NaN</td>\n",
       "      <td>NaN</td>\n",
       "      <td>NaN</td>\n",
       "      <td>NaN</td>\n",
       "      <td>NaN</td>\n",
       "      <td>NaN</td>\n",
       "    </tr>\n",
       "    <tr>\n",
       "      <th>3</th>\n",
       "      <td>4</td>\n",
       "      <td>1</td>\n",
       "      <td>Dear Local Newspaper, @CAPS1 I have found that...</td>\n",
       "      <td>5</td>\n",
       "      <td>5</td>\n",
       "      <td>NaN</td>\n",
       "      <td>10</td>\n",
       "      <td>NaN</td>\n",
       "      <td>NaN</td>\n",
       "      <td>NaN</td>\n",
       "      <td>...</td>\n",
       "      <td>NaN</td>\n",
       "      <td>NaN</td>\n",
       "      <td>NaN</td>\n",
       "      <td>NaN</td>\n",
       "      <td>NaN</td>\n",
       "      <td>NaN</td>\n",
       "      <td>NaN</td>\n",
       "      <td>NaN</td>\n",
       "      <td>NaN</td>\n",
       "      <td>NaN</td>\n",
       "    </tr>\n",
       "    <tr>\n",
       "      <th>4</th>\n",
       "      <td>5</td>\n",
       "      <td>1</td>\n",
       "      <td>Dear @LOCATION1, I know having computers has a...</td>\n",
       "      <td>4</td>\n",
       "      <td>4</td>\n",
       "      <td>NaN</td>\n",
       "      <td>8</td>\n",
       "      <td>NaN</td>\n",
       "      <td>NaN</td>\n",
       "      <td>NaN</td>\n",
       "      <td>...</td>\n",
       "      <td>NaN</td>\n",
       "      <td>NaN</td>\n",
       "      <td>NaN</td>\n",
       "      <td>NaN</td>\n",
       "      <td>NaN</td>\n",
       "      <td>NaN</td>\n",
       "      <td>NaN</td>\n",
       "      <td>NaN</td>\n",
       "      <td>NaN</td>\n",
       "      <td>NaN</td>\n",
       "    </tr>\n",
       "  </tbody>\n",
       "</table>\n",
       "<p>5 rows × 28 columns</p>\n",
       "</div>"
      ],
      "text/plain": [
       "   essay_id  essay_set                                              essay  \\\n",
       "0         1          1  Dear local newspaper, I think effects computer...   \n",
       "1         2          1  Dear @CAPS1 @CAPS2, I believe that using compu...   \n",
       "2         3          1  Dear, @CAPS1 @CAPS2 @CAPS3 More and more peopl...   \n",
       "3         4          1  Dear Local Newspaper, @CAPS1 I have found that...   \n",
       "4         5          1  Dear @LOCATION1, I know having computers has a...   \n",
       "\n",
       "   rater1_domain1  rater2_domain1  rater3_domain1  domain1_score  \\\n",
       "0               4               4             NaN              8   \n",
       "1               5               4             NaN              9   \n",
       "2               4               3             NaN              7   \n",
       "3               5               5             NaN             10   \n",
       "4               4               4             NaN              8   \n",
       "\n",
       "   rater1_domain2  rater2_domain2  domain2_score  ...  rater2_trait3  \\\n",
       "0             NaN             NaN            NaN  ...            NaN   \n",
       "1             NaN             NaN            NaN  ...            NaN   \n",
       "2             NaN             NaN            NaN  ...            NaN   \n",
       "3             NaN             NaN            NaN  ...            NaN   \n",
       "4             NaN             NaN            NaN  ...            NaN   \n",
       "\n",
       "   rater2_trait4  rater2_trait5  rater2_trait6  rater3_trait1  rater3_trait2  \\\n",
       "0            NaN            NaN            NaN            NaN            NaN   \n",
       "1            NaN            NaN            NaN            NaN            NaN   \n",
       "2            NaN            NaN            NaN            NaN            NaN   \n",
       "3            NaN            NaN            NaN            NaN            NaN   \n",
       "4            NaN            NaN            NaN            NaN            NaN   \n",
       "\n",
       "   rater3_trait3  rater3_trait4  rater3_trait5  rater3_trait6  \n",
       "0            NaN            NaN            NaN            NaN  \n",
       "1            NaN            NaN            NaN            NaN  \n",
       "2            NaN            NaN            NaN            NaN  \n",
       "3            NaN            NaN            NaN            NaN  \n",
       "4            NaN            NaN            NaN            NaN  \n",
       "\n",
       "[5 rows x 28 columns]"
      ]
     },
     "execution_count": 28,
     "metadata": {},
     "output_type": "execute_result"
    }
   ],
   "source": [
    "import pandas as pd\n",
    "df_essays = pd.read_csv('ASAP/training_set_rel3.tsv', sep='\\t',  encoding='ISO-8859-1')\n",
    "mask = (df_essays['essay_set'] == 1)\n",
    "df_essays_set_1 = df_essays[mask]\n",
    "df_essays_set_1.head()"
   ]
  },
  {
   "cell_type": "markdown",
   "metadata": {},
   "source": [
    "### Read syntactic complexity scores"
   ]
  },
  {
   "cell_type": "code",
   "execution_count": 31,
   "metadata": {},
   "outputs": [
    {
     "data": {
      "text/html": [
       "<div>\n",
       "<style scoped>\n",
       "    .dataframe tbody tr th:only-of-type {\n",
       "        vertical-align: middle;\n",
       "    }\n",
       "\n",
       "    .dataframe tbody tr th {\n",
       "        vertical-align: top;\n",
       "    }\n",
       "\n",
       "    .dataframe thead th {\n",
       "        text-align: right;\n",
       "    }\n",
       "</style>\n",
       "<table border=\"1\" class=\"dataframe\">\n",
       "  <thead>\n",
       "    <tr style=\"text-align: right;\">\n",
       "      <th></th>\n",
       "      <th>Filename</th>\n",
       "      <th>W</th>\n",
       "      <th>S</th>\n",
       "      <th>VP</th>\n",
       "      <th>C</th>\n",
       "      <th>T</th>\n",
       "      <th>DC</th>\n",
       "      <th>CT</th>\n",
       "      <th>CP</th>\n",
       "      <th>CN</th>\n",
       "      <th>...</th>\n",
       "      <th>VP/T</th>\n",
       "      <th>C/T</th>\n",
       "      <th>DC/C</th>\n",
       "      <th>DC/T</th>\n",
       "      <th>T/S</th>\n",
       "      <th>CT/T</th>\n",
       "      <th>CP/T</th>\n",
       "      <th>CP/C</th>\n",
       "      <th>CN/T</th>\n",
       "      <th>CN/C</th>\n",
       "    </tr>\n",
       "  </thead>\n",
       "  <tbody>\n",
       "    <tr>\n",
       "      <th>0</th>\n",
       "      <td>1053.txt</td>\n",
       "      <td>217</td>\n",
       "      <td>18</td>\n",
       "      <td>41</td>\n",
       "      <td>34</td>\n",
       "      <td>18</td>\n",
       "      <td>16</td>\n",
       "      <td>11</td>\n",
       "      <td>11</td>\n",
       "      <td>24</td>\n",
       "      <td>...</td>\n",
       "      <td>2.2778</td>\n",
       "      <td>1.8889</td>\n",
       "      <td>0.4706</td>\n",
       "      <td>0.8889</td>\n",
       "      <td>1.0000</td>\n",
       "      <td>0.6111</td>\n",
       "      <td>0.6111</td>\n",
       "      <td>0.3235</td>\n",
       "      <td>1.3333</td>\n",
       "      <td>0.7059</td>\n",
       "    </tr>\n",
       "    <tr>\n",
       "      <th>1</th>\n",
       "      <td>1735.txt</td>\n",
       "      <td>382</td>\n",
       "      <td>30</td>\n",
       "      <td>69</td>\n",
       "      <td>43</td>\n",
       "      <td>31</td>\n",
       "      <td>13</td>\n",
       "      <td>11</td>\n",
       "      <td>10</td>\n",
       "      <td>40</td>\n",
       "      <td>...</td>\n",
       "      <td>2.2258</td>\n",
       "      <td>1.3871</td>\n",
       "      <td>0.3023</td>\n",
       "      <td>0.4194</td>\n",
       "      <td>1.0333</td>\n",
       "      <td>0.3548</td>\n",
       "      <td>0.3226</td>\n",
       "      <td>0.2326</td>\n",
       "      <td>1.2903</td>\n",
       "      <td>0.9302</td>\n",
       "    </tr>\n",
       "    <tr>\n",
       "      <th>2</th>\n",
       "      <td>1721.txt</td>\n",
       "      <td>430</td>\n",
       "      <td>21</td>\n",
       "      <td>66</td>\n",
       "      <td>48</td>\n",
       "      <td>28</td>\n",
       "      <td>23</td>\n",
       "      <td>15</td>\n",
       "      <td>6</td>\n",
       "      <td>42</td>\n",
       "      <td>...</td>\n",
       "      <td>2.3571</td>\n",
       "      <td>1.7143</td>\n",
       "      <td>0.4792</td>\n",
       "      <td>0.8214</td>\n",
       "      <td>1.3333</td>\n",
       "      <td>0.5357</td>\n",
       "      <td>0.2143</td>\n",
       "      <td>0.1250</td>\n",
       "      <td>1.5000</td>\n",
       "      <td>0.8750</td>\n",
       "    </tr>\n",
       "    <tr>\n",
       "      <th>3</th>\n",
       "      <td>1047.txt</td>\n",
       "      <td>542</td>\n",
       "      <td>31</td>\n",
       "      <td>72</td>\n",
       "      <td>58</td>\n",
       "      <td>35</td>\n",
       "      <td>20</td>\n",
       "      <td>18</td>\n",
       "      <td>20</td>\n",
       "      <td>54</td>\n",
       "      <td>...</td>\n",
       "      <td>2.0571</td>\n",
       "      <td>1.6571</td>\n",
       "      <td>0.3448</td>\n",
       "      <td>0.5714</td>\n",
       "      <td>1.1290</td>\n",
       "      <td>0.5143</td>\n",
       "      <td>0.5714</td>\n",
       "      <td>0.3448</td>\n",
       "      <td>1.5429</td>\n",
       "      <td>0.9310</td>\n",
       "    </tr>\n",
       "    <tr>\n",
       "      <th>4</th>\n",
       "      <td>1709.txt</td>\n",
       "      <td>264</td>\n",
       "      <td>13</td>\n",
       "      <td>55</td>\n",
       "      <td>46</td>\n",
       "      <td>16</td>\n",
       "      <td>27</td>\n",
       "      <td>11</td>\n",
       "      <td>6</td>\n",
       "      <td>23</td>\n",
       "      <td>...</td>\n",
       "      <td>3.4375</td>\n",
       "      <td>2.8750</td>\n",
       "      <td>0.5870</td>\n",
       "      <td>1.6875</td>\n",
       "      <td>1.2308</td>\n",
       "      <td>0.6875</td>\n",
       "      <td>0.3750</td>\n",
       "      <td>0.1304</td>\n",
       "      <td>1.4375</td>\n",
       "      <td>0.5000</td>\n",
       "    </tr>\n",
       "  </tbody>\n",
       "</table>\n",
       "<p>5 rows × 24 columns</p>\n",
       "</div>"
      ],
      "text/plain": [
       "   Filename    W   S  VP   C   T  DC  CT  CP  CN  ...    VP/T     C/T    DC/C  \\\n",
       "0  1053.txt  217  18  41  34  18  16  11  11  24  ...  2.2778  1.8889  0.4706   \n",
       "1  1735.txt  382  30  69  43  31  13  11  10  40  ...  2.2258  1.3871  0.3023   \n",
       "2  1721.txt  430  21  66  48  28  23  15   6  42  ...  2.3571  1.7143  0.4792   \n",
       "3  1047.txt  542  31  72  58  35  20  18  20  54  ...  2.0571  1.6571  0.3448   \n",
       "4  1709.txt  264  13  55  46  16  27  11   6  23  ...  3.4375  2.8750  0.5870   \n",
       "\n",
       "     DC/T     T/S    CT/T    CP/T    CP/C    CN/T    CN/C  \n",
       "0  0.8889  1.0000  0.6111  0.6111  0.3235  1.3333  0.7059  \n",
       "1  0.4194  1.0333  0.3548  0.3226  0.2326  1.2903  0.9302  \n",
       "2  0.8214  1.3333  0.5357  0.2143  0.1250  1.5000  0.8750  \n",
       "3  0.5714  1.1290  0.5143  0.5714  0.3448  1.5429  0.9310  \n",
       "4  1.6875  1.2308  0.6875  0.3750  0.1304  1.4375  0.5000  \n",
       "\n",
       "[5 rows x 24 columns]"
      ]
     },
     "execution_count": 31,
     "metadata": {},
     "output_type": "execute_result"
    }
   ],
   "source": [
    "df_syntactic_complexity = pd.read_csv('ASAP/Preprocessed/scores.csv')\n",
    "df_syntactic_complexity.head()"
   ]
  },
  {
   "cell_type": "code",
   "execution_count": 32,
   "metadata": {},
   "outputs": [],
   "source": [
    "df_syntactic_complexity['Filename'] = df_syntactic_complexity.apply(lambda row : row['Filename'][:-4], axis = 1)"
   ]
  },
  {
   "cell_type": "code",
   "execution_count": 33,
   "metadata": {},
   "outputs": [],
   "source": [
    "df_syntactic_complexity['Filename'] = df_syntactic_complexity.apply(lambda row : int(row['Filename']) +1, axis = 1)"
   ]
  },
  {
   "cell_type": "code",
   "execution_count": 34,
   "metadata": {},
   "outputs": [],
   "source": [
    "df_syntactic_complexity = df_syntactic_complexity.sort_values(by=['Filename'])"
   ]
  },
  {
   "cell_type": "code",
   "execution_count": 35,
   "metadata": {},
   "outputs": [
    {
     "data": {
      "text/html": [
       "<div>\n",
       "<style scoped>\n",
       "    .dataframe tbody tr th:only-of-type {\n",
       "        vertical-align: middle;\n",
       "    }\n",
       "\n",
       "    .dataframe tbody tr th {\n",
       "        vertical-align: top;\n",
       "    }\n",
       "\n",
       "    .dataframe thead th {\n",
       "        text-align: right;\n",
       "    }\n",
       "</style>\n",
       "<table border=\"1\" class=\"dataframe\">\n",
       "  <thead>\n",
       "    <tr style=\"text-align: right;\">\n",
       "      <th></th>\n",
       "      <th>Filename</th>\n",
       "      <th>W</th>\n",
       "      <th>S</th>\n",
       "      <th>VP</th>\n",
       "      <th>C</th>\n",
       "      <th>T</th>\n",
       "      <th>DC</th>\n",
       "      <th>CT</th>\n",
       "      <th>CP</th>\n",
       "      <th>CN</th>\n",
       "      <th>...</th>\n",
       "      <th>VP/T</th>\n",
       "      <th>C/T</th>\n",
       "      <th>DC/C</th>\n",
       "      <th>DC/T</th>\n",
       "      <th>T/S</th>\n",
       "      <th>CT/T</th>\n",
       "      <th>CP/T</th>\n",
       "      <th>CP/C</th>\n",
       "      <th>CN/T</th>\n",
       "      <th>CN/C</th>\n",
       "    </tr>\n",
       "  </thead>\n",
       "  <tbody>\n",
       "    <tr>\n",
       "      <th>1269</th>\n",
       "      <td>1</td>\n",
       "      <td>343</td>\n",
       "      <td>16</td>\n",
       "      <td>53</td>\n",
       "      <td>32</td>\n",
       "      <td>15</td>\n",
       "      <td>16</td>\n",
       "      <td>7</td>\n",
       "      <td>12</td>\n",
       "      <td>34</td>\n",
       "      <td>...</td>\n",
       "      <td>3.5333</td>\n",
       "      <td>2.1333</td>\n",
       "      <td>0.5000</td>\n",
       "      <td>1.0667</td>\n",
       "      <td>0.9375</td>\n",
       "      <td>0.4667</td>\n",
       "      <td>0.8000</td>\n",
       "      <td>0.3750</td>\n",
       "      <td>2.2667</td>\n",
       "      <td>1.0625</td>\n",
       "    </tr>\n",
       "    <tr>\n",
       "      <th>1328</th>\n",
       "      <td>2</td>\n",
       "      <td>422</td>\n",
       "      <td>20</td>\n",
       "      <td>66</td>\n",
       "      <td>42</td>\n",
       "      <td>21</td>\n",
       "      <td>19</td>\n",
       "      <td>12</td>\n",
       "      <td>13</td>\n",
       "      <td>41</td>\n",
       "      <td>...</td>\n",
       "      <td>3.1429</td>\n",
       "      <td>2.0000</td>\n",
       "      <td>0.4524</td>\n",
       "      <td>0.9048</td>\n",
       "      <td>1.0500</td>\n",
       "      <td>0.5714</td>\n",
       "      <td>0.6190</td>\n",
       "      <td>0.3095</td>\n",
       "      <td>1.9524</td>\n",
       "      <td>0.9762</td>\n",
       "    </tr>\n",
       "    <tr>\n",
       "      <th>1214</th>\n",
       "      <td>3</td>\n",
       "      <td>283</td>\n",
       "      <td>14</td>\n",
       "      <td>44</td>\n",
       "      <td>35</td>\n",
       "      <td>17</td>\n",
       "      <td>13</td>\n",
       "      <td>7</td>\n",
       "      <td>9</td>\n",
       "      <td>33</td>\n",
       "      <td>...</td>\n",
       "      <td>2.5882</td>\n",
       "      <td>2.0588</td>\n",
       "      <td>0.3714</td>\n",
       "      <td>0.7647</td>\n",
       "      <td>1.2143</td>\n",
       "      <td>0.4118</td>\n",
       "      <td>0.5294</td>\n",
       "      <td>0.2571</td>\n",
       "      <td>1.9412</td>\n",
       "      <td>0.9429</td>\n",
       "    </tr>\n",
       "    <tr>\n",
       "      <th>1155</th>\n",
       "      <td>4</td>\n",
       "      <td>528</td>\n",
       "      <td>27</td>\n",
       "      <td>79</td>\n",
       "      <td>64</td>\n",
       "      <td>29</td>\n",
       "      <td>35</td>\n",
       "      <td>20</td>\n",
       "      <td>9</td>\n",
       "      <td>73</td>\n",
       "      <td>...</td>\n",
       "      <td>2.7241</td>\n",
       "      <td>2.2069</td>\n",
       "      <td>0.5469</td>\n",
       "      <td>1.2069</td>\n",
       "      <td>1.0741</td>\n",
       "      <td>0.6897</td>\n",
       "      <td>0.3103</td>\n",
       "      <td>0.1406</td>\n",
       "      <td>2.5172</td>\n",
       "      <td>1.1406</td>\n",
       "    </tr>\n",
       "    <tr>\n",
       "      <th>975</th>\n",
       "      <td>5</td>\n",
       "      <td>470</td>\n",
       "      <td>30</td>\n",
       "      <td>79</td>\n",
       "      <td>59</td>\n",
       "      <td>33</td>\n",
       "      <td>21</td>\n",
       "      <td>16</td>\n",
       "      <td>12</td>\n",
       "      <td>37</td>\n",
       "      <td>...</td>\n",
       "      <td>2.3939</td>\n",
       "      <td>1.7879</td>\n",
       "      <td>0.3559</td>\n",
       "      <td>0.6364</td>\n",
       "      <td>1.1000</td>\n",
       "      <td>0.4848</td>\n",
       "      <td>0.3636</td>\n",
       "      <td>0.2034</td>\n",
       "      <td>1.1212</td>\n",
       "      <td>0.6271</td>\n",
       "    </tr>\n",
       "  </tbody>\n",
       "</table>\n",
       "<p>5 rows × 24 columns</p>\n",
       "</div>"
      ],
      "text/plain": [
       "      Filename    W   S  VP   C   T  DC  CT  CP  CN  ...    VP/T     C/T  \\\n",
       "1269         1  343  16  53  32  15  16   7  12  34  ...  3.5333  2.1333   \n",
       "1328         2  422  20  66  42  21  19  12  13  41  ...  3.1429  2.0000   \n",
       "1214         3  283  14  44  35  17  13   7   9  33  ...  2.5882  2.0588   \n",
       "1155         4  528  27  79  64  29  35  20   9  73  ...  2.7241  2.2069   \n",
       "975          5  470  30  79  59  33  21  16  12  37  ...  2.3939  1.7879   \n",
       "\n",
       "        DC/C    DC/T     T/S    CT/T    CP/T    CP/C    CN/T    CN/C  \n",
       "1269  0.5000  1.0667  0.9375  0.4667  0.8000  0.3750  2.2667  1.0625  \n",
       "1328  0.4524  0.9048  1.0500  0.5714  0.6190  0.3095  1.9524  0.9762  \n",
       "1214  0.3714  0.7647  1.2143  0.4118  0.5294  0.2571  1.9412  0.9429  \n",
       "1155  0.5469  1.2069  1.0741  0.6897  0.3103  0.1406  2.5172  1.1406  \n",
       "975   0.3559  0.6364  1.1000  0.4848  0.3636  0.2034  1.1212  0.6271  \n",
       "\n",
       "[5 rows x 24 columns]"
      ]
     },
     "execution_count": 35,
     "metadata": {},
     "output_type": "execute_result"
    }
   ],
   "source": [
    "df_syntactic_complexity.head()"
   ]
  },
  {
   "cell_type": "markdown",
   "metadata": {},
   "source": [
    "### Read lexical complexity scores"
   ]
  },
  {
   "cell_type": "code",
   "execution_count": 36,
   "metadata": {},
   "outputs": [
    {
     "data": {
      "text/html": [
       "<div>\n",
       "<style scoped>\n",
       "    .dataframe tbody tr th:only-of-type {\n",
       "        vertical-align: middle;\n",
       "    }\n",
       "\n",
       "    .dataframe tbody tr th {\n",
       "        vertical-align: top;\n",
       "    }\n",
       "\n",
       "    .dataframe thead th {\n",
       "        text-align: right;\n",
       "    }\n",
       "</style>\n",
       "<table border=\"1\" class=\"dataframe\">\n",
       "  <thead>\n",
       "    <tr style=\"text-align: right;\">\n",
       "      <th></th>\n",
       "      <th>Maas</th>\n",
       "      <th>HD-D</th>\n",
       "      <th>MTLD</th>\n",
       "      <th>MWL</th>\n",
       "      <th>MXWL</th>\n",
       "      <th>MS</th>\n",
       "      <th>MXS</th>\n",
       "    </tr>\n",
       "  </thead>\n",
       "  <tbody>\n",
       "    <tr>\n",
       "      <th>1269</th>\n",
       "      <td>0.052942</td>\n",
       "      <td>0.828804</td>\n",
       "      <td>82.049304</td>\n",
       "      <td>3.984456</td>\n",
       "      <td>17</td>\n",
       "      <td>1.360104</td>\n",
       "      <td>6</td>\n",
       "    </tr>\n",
       "    <tr>\n",
       "      <th>1328</th>\n",
       "      <td>0.054179</td>\n",
       "      <td>0.838488</td>\n",
       "      <td>80.911765</td>\n",
       "      <td>4.030172</td>\n",
       "      <td>13</td>\n",
       "      <td>1.426724</td>\n",
       "      <td>4</td>\n",
       "    </tr>\n",
       "    <tr>\n",
       "      <th>1214</th>\n",
       "      <td>0.053444</td>\n",
       "      <td>0.800648</td>\n",
       "      <td>72.251769</td>\n",
       "      <td>4.035144</td>\n",
       "      <td>15</td>\n",
       "      <td>1.424920</td>\n",
       "      <td>4</td>\n",
       "    </tr>\n",
       "    <tr>\n",
       "      <th>1155</th>\n",
       "      <td>0.047681</td>\n",
       "      <td>0.830458</td>\n",
       "      <td>71.405464</td>\n",
       "      <td>4.328969</td>\n",
       "      <td>13</td>\n",
       "      <td>1.504092</td>\n",
       "      <td>5</td>\n",
       "    </tr>\n",
       "    <tr>\n",
       "      <th>975</th>\n",
       "      <td>0.057681</td>\n",
       "      <td>0.800235</td>\n",
       "      <td>47.944554</td>\n",
       "      <td>4.071567</td>\n",
       "      <td>14</td>\n",
       "      <td>1.475822</td>\n",
       "      <td>5</td>\n",
       "    </tr>\n",
       "  </tbody>\n",
       "</table>\n",
       "</div>"
      ],
      "text/plain": [
       "          Maas      HD-D       MTLD       MWL  MXWL        MS  MXS\n",
       "1269  0.052942  0.828804  82.049304  3.984456    17  1.360104    6\n",
       "1328  0.054179  0.838488  80.911765  4.030172    13  1.426724    4\n",
       "1214  0.053444  0.800648  72.251769  4.035144    15  1.424920    4\n",
       "1155  0.047681  0.830458  71.405464  4.328969    13  1.504092    5\n",
       "975   0.057681  0.800235  47.944554  4.071567    14  1.475822    5"
      ]
     },
     "execution_count": 36,
     "metadata": {},
     "output_type": "execute_result"
    }
   ],
   "source": [
    "df_lexical_complexity = pd.read_csv('ASAP/Preprocessed/lexical_complexity.csv', header=None)\n",
    "df_lexical_complexity = df_lexical_complexity.sort_values(by=[0])\n",
    "df_lexical_complexity.columns = ['file_id', 'Maas', 'HD-D', 'MTLD', 'MWL', 'MXWL', 'MS', 'MXS']\n",
    "del df_lexical_complexity['file_id']\n",
    "df_lexical_complexity.head()"
   ]
  },
  {
   "cell_type": "markdown",
   "metadata": {},
   "source": [
    "### Match complexity measures to essays"
   ]
  },
  {
   "cell_type": "code",
   "execution_count": 37,
   "metadata": {},
   "outputs": [],
   "source": [
    "df_all = pd.concat([df_essays_set_1, df_syntactic_complexity.reset_index()], axis = 1)\n",
    "# df_all = pd.concat([df_essays_set_1, df_lexical_complexity.reset_index()], axis = 1)"
   ]
  },
  {
   "cell_type": "markdown",
   "metadata": {},
   "source": [
    "### Removing Outlier"
   ]
  },
  {
   "cell_type": "code",
   "execution_count": null,
   "metadata": {},
   "outputs": [],
   "source": [
    "s = df_all[df_all['MLS'] > 100]['essay']\n",
    "s.iloc[0]"
   ]
  },
  {
   "cell_type": "code",
   "execution_count": 224,
   "metadata": {},
   "outputs": [],
   "source": [
    "df_all = df_all.drop(df_all[df_all['MLS'] > 100].index)"
   ]
  },
  {
   "cell_type": "code",
   "execution_count": 225,
   "metadata": {},
   "outputs": [
    {
     "data": {
      "text/plain": [
       "Series([], Name: essay, dtype: object)"
      ]
     },
     "execution_count": 225,
     "metadata": {},
     "output_type": "execute_result"
    }
   ],
   "source": [
    "df_all[df_all['MLS'] > 100]['essay']"
   ]
  },
  {
   "cell_type": "markdown",
   "metadata": {},
   "source": [
    "### Texts for which HD-D is not applicable\n",
    "- HD-D requires that the text has at least 42 characters.\n",
    "- All texts with < 42 characters got a grade of 2."
   ]
  },
  {
   "cell_type": "code",
   "execution_count": 423,
   "metadata": {},
   "outputs": [],
   "source": [
    "# For HD-D we need at least 42 words in the text. It is noteworthy that all texts of length <42 words got a grade of 1.\n",
    "df_all['W'] = df_all.apply(lambda row: len(row['essay'].split()), axis=1)\n",
    "df_hdd = df_all.drop(df_all[df_all['W'] < 42].index)"
   ]
  },
  {
   "cell_type": "code",
   "execution_count": 348,
   "metadata": {},
   "outputs": [],
   "source": [
    "df_lex = df_all"
   ]
  },
  {
   "cell_type": "markdown",
   "metadata": {},
   "source": [
    "### Generating Report\n",
    "- The `corr_report()` function generates, for a given complexity measure, a report containing statistical results relating to:\n",
    "    - Proficiency group distributions.\n",
    "    - Differences between profiency groups.\n",
    "    - Correlation between complexity measure and essay grade (writing quality)."
   ]
  },
  {
   "cell_type": "code",
   "execution_count": 328,
   "metadata": {},
   "outputs": [
    {
     "name": "stdout",
     "output_type": "stream",
     "text": [
      "Report for Max Number of Syllables, id=['MXS']\n",
      "-------------------------------\n",
      "\n",
      "High Proficiency:\n",
      "count    156.000000\n",
      "mean       5.000000\n",
      "std        0.611714\n",
      "min        4.000000\n",
      "25%        5.000000\n",
      "50%        5.000000\n",
      "75%        5.000000\n",
      "max        8.000000\n",
      "Name: MXS, dtype: float64\n",
      "\n",
      "\n",
      "Med Proficiency:\n",
      "count    1472.000000\n",
      "mean        4.622962\n",
      "std         0.650129\n",
      "min         3.000000\n",
      "25%         4.000000\n",
      "50%         5.000000\n",
      "75%         5.000000\n",
      "max        10.000000\n",
      "Name: MXS, dtype: float64\n",
      "\n",
      "\n",
      "Low Proficiency:\n",
      "count    155.000000\n",
      "mean       4.051613\n",
      "std        0.632389\n",
      "min        3.000000\n",
      "25%        4.000000\n",
      "50%        4.000000\n",
      "75%        4.000000\n",
      "max        5.000000\n",
      "Name: MXS, dtype: float64\n",
      "\n",
      "\n",
      "                            OLS Regression Results                            \n",
      "==============================================================================\n",
      "Dep. Variable:          domain1_score   R-squared:                       0.154\n",
      "Model:                            OLS   Adj. R-squared:                  0.153\n",
      "Method:                 Least Squares   F-statistic:                     323.0\n",
      "Date:                Sun, 04 Apr 2021   Prob (F-statistic):           1.67e-66\n",
      "Time:                        18:19:32   Log-Likelihood:                -3149.1\n",
      "No. Observations:                1783   AIC:                             6302.\n",
      "Df Residuals:                    1781   BIC:                             6313.\n",
      "Df Model:                           1                                         \n",
      "Covariance Type:            nonrobust                                         \n",
      "==============================================================================\n",
      "                 coef    std err          t      P>|t|      [0.025      0.975]\n",
      "------------------------------------------------------------------------------\n",
      "const          4.4187      0.231     19.120      0.000       3.965       4.872\n",
      "MXS            0.8922      0.050     17.973      0.000       0.795       0.990\n",
      "==============================================================================\n",
      "Omnibus:                       75.275   Durbin-Watson:                   1.944\n",
      "Prob(Omnibus):                  0.000   Jarque-Bera (JB):              127.564\n",
      "Skew:                          -0.342   Prob(JB):                     1.99e-28\n",
      "Kurtosis:                       4.117   Cond. No.                         33.5\n",
      "==============================================================================\n",
      "\n",
      "Warnings:\n",
      "[1] Standard Errors assume that the covariance matrix of the errors is correctly specified.\n",
      "\n",
      "p-value of 8.72468371534474e-06 fails levenes median test\n",
      "\n",
      "\n",
      "p-value of 3.991973814954613e-18 fails levenes mean test\n",
      "\n",
      "\n",
      "ANOVA p-value: 1.9239201172216035e-40\n",
      "\n"
     ]
    },
    {
     "data": {
      "image/png": "[encoded data removed]",
      "text/plain": [
       "<Figure size 432x432 with 1 Axes>"
      ]
     },
     "metadata": {},
     "output_type": "display_data"
    },
    {
     "data": {
      "image/png": "[encoded data removed]",
      "text/plain": [
       "<Figure size 432x432 with 1 Axes>"
      ]
     },
     "metadata": {},
     "output_type": "display_data"
    }
   ],
   "source": [
    "'''\n",
    "'Maas', 'HD-D', 'MTLD', 'MWL', 'MXWL', 'MS', 'MXS'\n",
    "'''\n",
    "\n",
    "corr_report(df_all, 'MXS', 'Max Number of Syllables')"
   ]
  },
  {
   "cell_type": "markdown",
   "metadata": {},
   "source": [
    "### Group essays into 'proficiency' groups based on grade"
   ]
  },
  {
   "cell_type": "code",
   "execution_count": 368,
   "metadata": {},
   "outputs": [
    {
     "data": {
      "image/png": "[encoded data removed]",
      "text/plain": [
       "<Figure size 432x288 with 1 Axes>"
      ]
     },
     "metadata": {},
     "output_type": "display_data"
    }
   ],
   "source": [
    "df_all['domain1_score'].hist(bins=9)\n",
    "plt.xlabel('Grade', size=14)\n",
    "plt.ylabel('Frequency', size=14)\n",
    "plt.gcf().set_size_inches(6, 4)"
   ]
  },
  {
   "cell_type": "code",
   "execution_count": 88,
   "metadata": {},
   "outputs": [
    {
     "data": {
      "image/png": "[encoded data removed]",
      "text/plain": [
       "<Figure size 432x288 with 1 Axes>"
      ]
     },
     "metadata": {},
     "output_type": "display_data"
    }
   ],
   "source": [
    "hist = w_df['proficiency'].hist(bins=3)"
   ]
  },
  {
   "cell_type": "code",
   "execution_count": 128,
   "metadata": {},
   "outputs": [],
   "source": [
    "# [[2 3 4 5 6] [7 8 9 10] [11 12]]\n",
    "def label_proficiency(row):\n",
    "    if row['domain1_score'] < 7:\n",
    "        return 'low'\n",
    "    elif row['domain1_score'] > 10:\n",
    "        return 'high'\n",
    "    else:\n",
    "        return 'med'"
   ]
  },
  {
   "cell_type": "markdown",
   "metadata": {},
   "source": [
    "### Generate report for correlation between a given feature and grade"
   ]
  },
  {
   "cell_type": "code",
   "execution_count": 324,
   "metadata": {},
   "outputs": [],
   "source": [
    "def corr_report(df, feature_id, feature_name):\n",
    "    print(f'Report for {feature_name}, id=[\\'{feature_id}\\']\\n-------------------------------\\n')\n",
    "    \n",
    "    ax = sns.regplot(x=feature_id, y='domain1_score', data=df, line_kws={'color':'red'})\n",
    "    plt.xlabel(feature_name, size=14)\n",
    "    plt.ylabel('Grade', size=14)\n",
    "    plt.gcf().set_size_inches(6, 6)\n",
    "    \n",
    "    df['proficiency'] = df.apply(label_proficiency, axis=1)\n",
    "    mask = (df['proficiency'] == 'high')\n",
    "    high = df[mask]\n",
    "    print(f'High Proficiency:\\n{high[feature_id].describe()}\\n\\n')\n",
    "    \n",
    "    df['proficiency'] = df.apply(label_proficiency, axis=1)\n",
    "    mask = (df['proficiency'] == 'med')\n",
    "    med = df[mask]\n",
    "    print(f'Med Proficiency:\\n{med[feature_id].describe()}\\n\\n')\n",
    "    \n",
    "    df['proficiency'] = df.apply(label_proficiency, axis=1)\n",
    "    mask = (df['proficiency'] == 'low')\n",
    "    low = df[mask]\n",
    "    print(f'Low Proficiency:\\n{low[feature_id].describe()}\\n\\n')\n",
    "    \n",
    "    ax = sns.catplot(x='proficiency', y=feature_id, data=df, order=['low', 'med', 'high'], dodge=True, kind='violin', aspect=1)\n",
    "\n",
    "    plt.xlabel('Proficiency', size=14)\n",
    "    plt.ylabel(feature_name, size=14)\n",
    "    plt.gcf().set_size_inches(6, 6)\n",
    "    \n",
    "    X = df[feature_id]\n",
    "    y = df['domain1_score']\n",
    "\n",
    "    X = sm.add_constant(X)\n",
    "    est = sm.OLS(y, X).fit()\n",
    "    print(est.summary())\n",
    "    \n",
    "    low, med, high = split_by_proficiency(df_all)\n",
    "    stat, p = stats.levene(low[feature_id], med[feature_id], high[feature_id], center='median')\n",
    "    if p > 0.05:\n",
    "        print(f'\\np-value of {p} passes levenes median test\\n')\n",
    "    else:\n",
    "        print(f'\\np-value of {p} fails levenes median test\\n')\n",
    "        \n",
    "    stat, p = stats.levene(low[feature_id], med[feature_id], high[feature_id], center='mean')\n",
    "    if p > 0.05:\n",
    "        print(f'\\np-value of {p} passes levenes mean test\\n')\n",
    "    else:\n",
    "        print(f'\\np-value of {p} fails levenes mean test\\n')\n",
    "    \n",
    "    fvalue, pvalue = stats.f_oneway(low['MTLD'], med['MTLD'], high['MTLD'])\n",
    "    print(f'\\nANOVA p-value: {pvalue}\\n')"
   ]
  },
  {
   "cell_type": "code",
   "execution_count": 281,
   "metadata": {},
   "outputs": [],
   "source": [
    "def split_by_proficiency(df):\n",
    "    df['proficiency'] = df.apply(label_proficiency, axis=1)\n",
    "    mask = (df['proficiency'] == 'high')\n",
    "    high = df[mask]\n",
    "    \n",
    "    df['proficiency'] = df.apply(label_proficiency, axis=1)\n",
    "    mask = (df['proficiency'] == 'med')\n",
    "    med = df[mask]\n",
    "    \n",
    "    df['proficiency'] = df.apply(label_proficiency, axis=1)\n",
    "    mask = (df['proficiency'] == 'low')\n",
    "    low = df[mask]\n",
    "    \n",
    "    return low, med, high"
   ]
  },
  {
   "cell_type": "markdown",
   "metadata": {},
   "source": [
    "### Statistical Significance"
   ]
  },
  {
   "cell_type": "code",
   "execution_count": 290,
   "metadata": {},
   "outputs": [
    {
     "data": {
      "text/plain": [
       "LeveneResult(statistic=1.8132692468865212, pvalue=0.1634211624708409)"
      ]
     },
     "execution_count": 290,
     "metadata": {},
     "output_type": "execute_result"
    }
   ],
   "source": [
    "import scipy.stats as stats\n",
    "\n",
    "low, med, high = split_by_proficiency(df_all)\n",
    "\n",
    "#Levene's test centered at the median\n",
    "stats.levene(low['MTLD'], med['MTLD'], high['MTLD'], center='median')"
   ]
  },
  {
   "cell_type": "code",
   "execution_count": 277,
   "metadata": {},
   "outputs": [
    {
     "name": "stdout",
     "output_type": "stream",
     "text": [
      "Statistics=0.996, p=0.000\n",
      "Sample does not look Gaussian (reject H0)\n"
     ]
    }
   ],
   "source": [
    "from scipy.stats import shapiro\n",
    "\n",
    "stat, p = shapiro(df_all['MWL'])\n",
    "print('Statistics=%.3f, p=%.3f' % (stat, p))\n",
    "# interpret\n",
    "alpha = 0.05\n",
    "if p > alpha:\n",
    "\tprint('Sample looks Gaussian (fail to reject H0)')\n",
    "else:\n",
    "\tprint('Sample does not look Gaussian (reject H0)')"
   ]
  },
  {
   "cell_type": "code",
   "execution_count": 285,
   "metadata": {},
   "outputs": [
    {
     "name": "stdout",
     "output_type": "stream",
     "text": [
      "96.3124509851104 1.9239201172216035e-40\n"
     ]
    }
   ],
   "source": [
    "import scipy.stats as stats\n",
    "\n",
    "# stats f_oneway functions takes the groups as input and returns ANOVA F and p value\n",
    "fvalue, pvalue = stats.f_oneway(low['MTLD'], med['MTLD'], high['MTLD'])\n",
    "print(fvalue, pvalue)"
   ]
  },
  {
   "cell_type": "markdown",
   "metadata": {},
   "source": [
    "### Descriptive Stats\n",
    "- Distribution of some of the features?"
   ]
  },
  {
   "cell_type": "code",
   "execution_count": 350,
   "metadata": {},
   "outputs": [
    {
     "data": {
      "image/png": "[encoded data removed]",
      "text/plain": [
       "<Figure size 432x288 with 1 Axes>"
      ]
     },
     "metadata": {},
     "output_type": "display_data"
    }
   ],
   "source": [
    "'''\n",
    "'Maas', 'HD-D', 'MTLD', 'MWL', 'MXWL', 'MS', 'MXS'\n",
    "'''\n",
    "\n",
    "df_all['W'].hist(bins=30)\n",
    "plt.xlabel('Word Count', size=14)\n",
    "plt.ylabel('Frequency', size=14)\n",
    "plt.gcf().set_size_inches(6, 4)"
   ]
  },
  {
   "cell_type": "code",
   "execution_count": 377,
   "metadata": {},
   "outputs": [
    {
     "data": {
      "text/plain": [
       "156"
      ]
     },
     "execution_count": 377,
     "metadata": {},
     "output_type": "execute_result"
    }
   ],
   "source": [
    "len(split_by_proficiency(df_all)[2])"
   ]
  },
  {
   "cell_type": "markdown",
   "metadata": {},
   "source": [
    "### Overall Comparison Plots"
   ]
  },
  {
   "cell_type": "code",
   "execution_count": 380,
   "metadata": {},
   "outputs": [],
   "source": [
    "def normalise(x):\n",
    "    if x\n",
    "    return (x-min(x))/(max(x)-min(x))"
   ]
  },
  {
   "cell_type": "code",
   "execution_count": 426,
   "metadata": {},
   "outputs": [],
   "source": [
    "labels = ['Maas', 'HD-D', 'MTLD', 'MWL', 'MXWL', 'MS', 'MXS']\n",
    "\n",
    "for label in labels:\n",
    "    df_hdd[f'{label}_n'] = normalise(df_hdd[label])"
   ]
  },
  {
   "cell_type": "code",
   "execution_count": 427,
   "metadata": {},
   "outputs": [
    {
     "data": {
      "image/png": "[encoded data removed]",
      "text/plain": [
       "<Figure size 720x576 with 1 Axes>"
      ]
     },
     "metadata": {},
     "output_type": "display_data"
    }
   ],
   "source": [
    "labels = ['Maas', 'HD-D', 'MTLD', 'MWL', 'MXWL', 'MS', 'MXS']\n",
    "low, med, high = split_by_proficiency(df_hdd)\n",
    "\n",
    "low_mean = [low[f'{key}_n'].mean() for key in labels]\n",
    "med_mean = [med[f'{key}_n'].mean() for key in labels]\n",
    "high_mean = [high[f'{key}_n'].mean() for key in labels]\n",
    "\n",
    "plt.plot(labels, low_mean, '-x', label='Low Proficiency')\n",
    "plt.plot(labels, med_mean, '-^', label='Medium Proficiency')\n",
    "plt.plot(labels, high_mean, '-o', label='High Proficiency')\n",
    "plt.gcf().set_size_inches(10, 8)\n",
    "plt.legend()\n",
    "plt.rc('legend', fontsize=16)\n",
    "plt.rc('xtick', labelsize=16)\n",
    "plt.rc('ytick', labelsize=16)\n",
    "plt.xlabel('Complexity Measurement')\n",
    "plt.ylabel('Normalised Value')\n",
    "plt.show()"
   ]
  },
  {
   "cell_type": "markdown",
   "metadata": {},
   "source": [
    "### Examples from dataset for writeup"
   ]
  },
  {
   "cell_type": "code",
   "execution_count": 26,
   "metadata": {},
   "outputs": [
    {
     "data": {
      "text/plain": [
       "'Dear @ORGANIZATION1, The computer blinked to life and an image of a blonde haired girl filled the screen. It was easy to find out how life was in @LOCATION2, thanks to the actual @CAPS1 girl explaining it. Going to the library wouldn\\'t have filled one with this priceless information and human interection. Computers are a nessessity of life if soceity wishes to grow and expand. They should be supported because they teach hand eye coordination, give people the ability to learn about faraway places, and allow people to talk to others online. Firstly, computers help teach hand eye coordination. Hand-eye coordination is a useful ability that is usod to excel in sports. In a recent survey, @PERCENT1 of kids felt their hand eye coordination improves after computer use. Even a simple thing like tying can build up this skill. Famous neurologist @CAPS2 @PERSON1 stated in an article last week that, \"@CAPS3 and computer strength the @CAPS2. When on the computer, you automatically process what the eyes see into a command for your hands.\" @CAPS4 hand eye coordination can improve people in sports such as baseball and basketball. If someone wan\\'t to become better in these sports, all they\\'d need to do was turn on the computer. Once people become better at sports, they\\'re more likely to play them and become more healthy. In reality, computers can help with exercising instead of decreasing it. Additionaly, computers allow people to access information about faraway places and people. If someone wanted to reasearch @LOCATION1, all they\\'d need to do was type in a search would be presented to them in it would link forever to search through countless things. Also, having the ability to learn about cultures can make peole peole and their cultures, they understand others something. Increase tolerance people are. Computers are a resourceful tool that they can help people in every different aspect of life. Lastly, computer and in technology can allow people to chat. Computer chat and video chat can help the all different nations. Bring on good terms places other than can help us understand story comes out about something that happend in @LOCATION3, people can just go on their computer and ask an actual @LOCATION3 citizen their take on the matter. Also, video chat and online conversation can cut down on expensive phone bills. No one wants to pay more than they have to in this economy. Another good point is that you can acess family members you scaresly visit. It can help you connect within your own family more. Oviously, computers are a useful aid in todays era. their advancements push the world foreward to a better place. Computers can help people because they help teach handeye coordination, give people the bility to learn about faraway places and people, and allow people to talk online with others. Think of a world with no computers or technologicall advancements. The world would be sectored and unified, contact between people scare, and information even. The internet is like thousands or librarys put together. Nobody would know much about other nations and news would travel slower. Is that the kind of palce you want people to live in?'"
      ]
     },
     "execution_count": 26,
     "metadata": {},
     "output_type": "execute_result"
    }
   ],
   "source": [
    "df_all[df_all['domain1_score'] == 12]['essay'].values[0]"
   ]
  }
 ],
 "metadata": {
  "kernelspec": {
   "display_name": "Python 3",
   "language": "python",
   "name": "python3"
  },
  "language_info": {
   "codemirror_mode": {
    "name": "ipython",
    "version": 3
   },
   "file_extension": ".py",
   "mimetype": "text/x-python",
   "name": "python",
   "nbconvert_exporter": "python",
   "pygments_lexer": "ipython3",
   "version": "3.7.6"
  }
 },
 "nbformat": 4,
 "nbformat_minor": 4
}
